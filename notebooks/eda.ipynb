{
 "cells": [
  {
   "cell_type": "code",
   "execution_count": 49,
   "id": "2c14dbf3",
   "metadata": {},
   "outputs": [
    {
     "name": "stdout",
     "output_type": "stream",
     "text": [
      "This gives me the shape\n",
      "(5000, 11)\n",
      "This gives me the columns\n",
      "Index(['Post_ID', 'Post_Date', 'Platform', 'Hashtag', 'Content_Type', 'Region',\n",
      "       'Views', 'Likes', 'Shares', 'Comments', 'Engagement_Level'],\n",
      "      dtype='object')\n",
      "This gives me the head\n",
      "  Post_ID   Post_Date   Platform     Hashtag Content_Type     Region    Views  \\\n",
      "0  Post_1  2022-01-13     TikTok  #Challenge        Video         UK  4163464   \n",
      "1  Post_2  2022-05-13  Instagram  #Education       Shorts      India  4155940   \n",
      "2  Post_3  2022-01-07    Twitter  #Challenge        Video     Brazil  3666211   \n",
      "3  Post_4  2022-12-05    YouTube  #Education       Shorts  Australia   917951   \n",
      "4  Post_5  2023-03-23     TikTok      #Dance         Post     Brazil    64866   \n",
      "\n",
      "    Likes  Shares  Comments Engagement_Level  \n",
      "0  339431   53135     19346             High  \n",
      "1  215240   65860     27239           Medium  \n",
      "2  327143   39423     36223           Medium  \n",
      "3  127125   11687     36806              Low  \n",
      "4  171361   69581      6376           Medium  \n"
     ]
    }
   ],
   "source": [
    "import pandas as pd\n",
    "\n",
    "df = pd.read_csv(\"/Users/dannytran/Documents/VSCode Projekte/virality-prediction/data/Cleaned_Viral_Social_Media_Trends.csv\") \n",
    "print('This gives me the shape')\n",
    "print(df.shape)\n",
    "print('This gives me the columns')\n",
    "print(df.columns)\n",
    "print('This gives me the head')\n",
    "print (df.head())"
   ]
  },
  {
   "cell_type": "markdown",
   "id": "4984f508",
   "metadata": {},
   "source": [
    "Wie viele Posts pro Plattform?"
   ]
  },
  {
   "cell_type": "code",
   "execution_count": 50,
   "id": "aedf7629",
   "metadata": {},
   "outputs": [
    {
     "name": "stdout",
     "output_type": "stream",
     "text": [
      "Platform\n",
      "YouTube      1324\n",
      "TikTok       1260\n",
      "Instagram    1212\n",
      "Twitter      1204\n",
      "Name: count, dtype: int64\n"
     ]
    }
   ],
   "source": [
    "print(df[\"Platform\"].value_counts())"
   ]
  },
  {
   "cell_type": "markdown",
   "id": "982a547c",
   "metadata": {},
   "source": [
    "Verteilung der Likes/Views?"
   ]
  },
  {
   "cell_type": "code",
   "execution_count": null,
   "id": "638ab3db",
   "metadata": {},
   "outputs": [],
   "source": [
    "print(df[\"Likes\"].describe().round(1)) \n",
    "print(\"Der Median ist \" + str(df[\"Likes\"].median()))\n",
    "import matplotlib.pyplot as plt\n",
    "\n",
    "df[\"Likes\"].hist(bins=100, log=True)\n",
    "plt.xlabel(\"Anzahl Likes\")\n",
    "plt.ylabel(\"Anzahl Posts\")\n",
    "plt.title(\"Verteilung der Likes\")\n",
    "plt.show()\n",
    "\n",
    "print(df[\"Views\"].describe().round(1))\n",
    "print(\"Der Median ist \" + str(df[\"Views\"].median()))\n",
    "import matplotlib.pyplot as plt\n",
    "\n",
    "df[\"Views\"].hist(bins=100, log=True)\n",
    "plt.xlabel(\"Anzahl Views\")\n",
    "plt.ylabel(\"Anzahl Posts\")\n",
    "plt.title(\"Verteilung der Views\")\n",
    "plt.show()"
   ]
  },
  {
   "cell_type": "markdown",
   "id": "3acb18be",
   "metadata": {},
   "source": [
    "Viralität = In den Top 10% der Views "
   ]
  },
  {
   "cell_type": "code",
   "execution_count": 56,
   "id": "e1a71c46",
   "metadata": {},
   "outputs": [
    {
     "name": "stdout",
     "output_type": "stream",
     "text": [
      "Platform\n",
      "YouTube      153\n",
      "Twitter      122\n",
      "TikTok       116\n",
      "Instagram    109\n",
      "Name: count, dtype: int64\n",
      "Die Plattform mit den meisten viralen Posts ist YouTube\n"
     ]
    }
   ],
   "source": [
    " \n",
    "#Wie analysiere ich innerhalb dieser viralen Posts, was pro Plattform die Viralität ausgemacht hat?\n",
    "df_viral = df[df[\"Views\"] > df[\"Views\"].quantile(0.9)] \n",
    "print(df_viral['Platform'].value_counts())\n",
    "print(\"Die Plattform mit den meisten viralen Posts ist \" + df_viral['Platform'].value_counts().idxmax())\n",
    "\n"
   ]
  },
  {
   "cell_type": "markdown",
   "id": "cc3e61ef",
   "metadata": {},
   "source": [
    "Welche Hashtags und Content-Typen dominieren virale Posts?"
   ]
  },
  {
   "cell_type": "code",
   "execution_count": 62,
   "id": "af4d43ce",
   "metadata": {},
   "outputs": [
    {
     "name": "stdout",
     "output_type": "stream",
     "text": [
      "(153, 11)\n",
      "      Post_ID   Post_Date Platform     Hashtag Content_Type  Region    Views  \\\n",
      "25    Post_26  2022-09-08  YouTube      #Dance  Live Stream  Brazil  4910814   \n",
      "29    Post_30  2023-10-23  YouTube  #Education       Shorts   Japan  4683280   \n",
      "32    Post_33  2022-07-08  YouTube     #Gaming  Live Stream     USA  4977438   \n",
      "121  Post_122  2022-07-30  YouTube     #Comedy  Live Stream   India  4927173   \n",
      "141  Post_142  2022-11-28  YouTube       #Tech  Live Stream  Brazil  4849297   \n",
      "\n",
      "      Likes  Shares  Comments Engagement_Level  \n",
      "25   197287   53218     14896              Low  \n",
      "29   311330    3357      5110           Medium  \n",
      "32     8731    4500     46045              Low  \n",
      "121   22341   38730     42476           Medium  \n",
      "141   86843   16843     14705              Low  \n",
      "Hashtag\n",
      "#Education    24\n",
      "#Dance        19\n",
      "#Comedy       17\n",
      "#Challenge    17\n",
      "#Gaming       16\n",
      "#Music        15\n",
      "#Fashion      14\n",
      "#Viral        11\n",
      "#Fitness      11\n",
      "#Tech          9\n",
      "Name: count, dtype: int64\n",
      "Die drei beliebtesten Hashtags auf YouTube sind: #Education, #Dance, #Comedy\n"
     ]
    }
   ],
   "source": [
    "print(df_viral[df_viral[\"Platform\"] == \"YouTube\"].shape) \n",
    "print(df_viral[df_viral[\"Platform\"] == \"YouTube\"].head(5))\n",
    "\n",
    "print(df_viral[df_viral[\"Platform\"] == \"YouTube\"]['Hashtag'].value_counts())\n",
    "print(\"Die drei beliebtesten Hashtags auf YouTube sind: \" + \", \".join(df_viral[df_viral[\"Platform\"] == \"YouTube\"]['Hashtag'].value_counts().head(3).index.tolist()))"
   ]
  }
 ],
 "metadata": {
  "kernelspec": {
   "display_name": "virality",
   "language": "python",
   "name": "python3"
  },
  "language_info": {
   "codemirror_mode": {
    "name": "ipython",
    "version": 3
   },
   "file_extension": ".py",
   "mimetype": "text/x-python",
   "name": "python",
   "nbconvert_exporter": "python",
   "pygments_lexer": "ipython3",
   "version": "3.13.7"
  }
 },
 "nbformat": 4,
 "nbformat_minor": 5
}
