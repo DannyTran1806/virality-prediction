{
 "cells": [
  {
   "cell_type": "code",
   "execution_count": 7,
   "id": "2c14dbf3",
   "metadata": {},
   "outputs": [
    {
     "name": "stdout",
     "output_type": "stream",
     "text": [
      "This gives me the shape\n",
      "(5000, 11)\n",
      "This gives me the columns\n",
      "Index(['Post_ID', 'Post_Date', 'Platform', 'Hashtag', 'Content_Type', 'Region',\n",
      "       'Views', 'Likes', 'Shares', 'Comments', 'Engagement_Level'],\n",
      "      dtype='object')\n",
      "This gives me the head\n",
      "  Post_ID   Post_Date   Platform     Hashtag Content_Type     Region    Views  \\\n",
      "0  Post_1  2022-01-13     TikTok  #Challenge        Video         UK  4163464   \n",
      "1  Post_2  2022-05-13  Instagram  #Education       Shorts      India  4155940   \n",
      "2  Post_3  2022-01-07    Twitter  #Challenge        Video     Brazil  3666211   \n",
      "3  Post_4  2022-12-05    YouTube  #Education       Shorts  Australia   917951   \n",
      "4  Post_5  2023-03-23     TikTok      #Dance         Post     Brazil    64866   \n",
      "\n",
      "    Likes  Shares  Comments Engagement_Level  \n",
      "0  339431   53135     19346             High  \n",
      "1  215240   65860     27239           Medium  \n",
      "2  327143   39423     36223           Medium  \n",
      "3  127125   11687     36806              Low  \n",
      "4  171361   69581      6376           Medium  \n"
     ]
    }
   ],
   "source": [
    "import pandas as pd\n",
    "\n",
    "df = pd.read_csv(\"/Users/dannytran/Documents/VSCode Projekte/virality-prediction/data/Cleaned_Viral_Social_Media_Trends.csv\") \n",
    "print('This gives me the shape')\n",
    "print(df.shape)\n",
    "print('This gives me the columns')\n",
    "print(df.columns)\n",
    "print('This gives me the head')\n",
    "print (df.head())"
   ]
  },
  {
   "cell_type": "markdown",
   "id": "4984f508",
   "metadata": {},
   "source": [
    "Wie viele Posts pro Plattform?"
   ]
  },
  {
   "cell_type": "code",
   "execution_count": 14,
   "id": "aedf7629",
   "metadata": {},
   "outputs": [
    {
     "name": "stdout",
     "output_type": "stream",
     "text": [
      "Platform\n",
      "YouTube      1324\n",
      "TikTok       1260\n",
      "Instagram    1212\n",
      "Twitter      1204\n",
      "Name: count, dtype: int64\n"
     ]
    }
   ],
   "source": [
    "print(df[\"Platform\"].value_counts())"
   ]
  },
  {
   "cell_type": "markdown",
   "id": "982a547c",
   "metadata": {},
   "source": [
    "Verteilung der Likes/Views (normal oder heavy-tailed)?"
   ]
  },
  {
   "cell_type": "code",
   "execution_count": 15,
   "id": "638ab3db",
   "metadata": {},
   "outputs": [
    {
     "name": "stdout",
     "output_type": "stream",
     "text": [
      "count      5000.000000\n",
      "mean     251475.029800\n",
      "std      144349.583384\n",
      "min         490.000000\n",
      "25%      126892.250000\n",
      "50%      249443.000000\n",
      "75%      373970.750000\n",
      "max      499922.000000\n",
      "Name: Likes, dtype: float64\n"
     ]
    }
   ],
   "source": [
    "print(df[\"Likes\"].describe()) "
   ]
  }
 ],
 "metadata": {
  "kernelspec": {
   "display_name": "virality",
   "language": "python",
   "name": "python3"
  },
  "language_info": {
   "codemirror_mode": {
    "name": "ipython",
    "version": 3
   },
   "file_extension": ".py",
   "mimetype": "text/x-python",
   "name": "python",
   "nbconvert_exporter": "python",
   "pygments_lexer": "ipython3",
   "version": "3.13.7"
  }
 },
 "nbformat": 4,
 "nbformat_minor": 5
}
